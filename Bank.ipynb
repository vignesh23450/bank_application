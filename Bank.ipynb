{
 "cells": [
  {
   "cell_type": "code",
   "execution_count": 1,
   "id": "6c3605ff",
   "metadata": {},
   "outputs": [],
   "source": [
    "# Establishing a connection to the MySQL database\n",
    "import mysql.connector\n",
    "connection= mysql.connector.connect(\n",
    "  host=\"127.0.0.1\",\n",
    "  user=\"root\",\n",
    "  password=\"2450\",\n",
    "  database=\"bank\"\n",
    ")\n",
    "\n",
    "# Creating a cursor to execute SQL \n",
    "cursor = connection.cursor()\n",
    "\n"
   ]
  },
  {
   "cell_type": "code",
   "execution_count": 2,
   "id": "89f4a3e3",
   "metadata": {},
   "outputs": [
    {
     "name": "stdout",
     "output_type": "stream",
     "text": [
      "(1001, 'John', 'Doe', 'john.doe@example.com', '1234567890', '123 Main St')\n",
      "(1002, 'Jane', 'Smith', 'jane.smith@example.com', '0987654321', '456 Elm St')\n",
      "(1003, 'Michael', 'Johnson', 'michael.johnson@example.com', '9876543210', '789 Oak Ave')\n",
      "(1004, 'Emily', 'Williams', 'emily.williams@example.com', '0123456789', '321 Pine Rd')\n",
      "(1005, 'David', 'Brown', 'david.brown@example.com', '6789012345', '987 Maple Ln')\n",
      "(1006, 'Sarah', 'Taylor', 'sarah.taylor@example.com', '5432167890', '654 Cedar St')\n",
      "(1007, 'Christopher', 'Davis', 'christopher.davis@example.com', '8901234567', '789 Walnut Ave')\n",
      "(1008, 'Jennifer', 'Miller', 'jennifer.miller@example.com', '7654321098', '432 Birch Rd')\n",
      "(1009, 'Matthew', 'Anderson', 'matthew.anderson@example.com', '2345678901', '567 Oak Ave')\n",
      "(1010, 'Amanda', 'Wilson', 'amanda.wilson@example.com', '9012345678', '876 Pine Rd')\n",
      "(1011, 'john', 'son', 'john@gmail.com', '3637237283', '#044 hadra')\n"
     ]
    }
   ],
   "source": [
    "# displaying the customers values\n",
    "query = \"SELECT * FROM customers\"\n",
    "cursor.execute(query)\n",
    "result = cursor.fetchall()\n",
    "for row in result:\n",
    "    print(row)\n",
    "\n"
   ]
  },
  {
   "cell_type": "code",
   "execution_count": 3,
   "id": "d4c48b2d",
   "metadata": {},
   "outputs": [
    {
     "name": "stdout",
     "output_type": "stream",
     "text": [
      "(1, 1001, datetime.date(2023, 7, 1), 10, 5090)\n",
      "(2, 1002, datetime.date(2023, 7, 5), 250, 5050)\n",
      "(3, 1003, datetime.date(2023, 7, 3), 1000, 7000)\n",
      "(4, 1004, datetime.date(2023, 7, 7), -500, 6500)\n",
      "(5, 1005, datetime.date(2023, 7, 2), 300, 4000)\n",
      "(6, 1006, datetime.date(2023, 7, 6), -150, 3850)\n",
      "(7, 1007, datetime.date(2023, 7, 4), 800, 9000)\n",
      "(8, 1008, datetime.date(2023, 7, 8), -300, 8700)\n",
      "(9, 1009, datetime.date(2023, 7, 5), 200, 3000)\n",
      "(10, 1010, datetime.date(2023, 7, 9), -100, 2900)\n"
     ]
    }
   ],
   "source": [
    "# displaying the transactions values\n",
    "query = \"SELECT * FROM transactions\"\n",
    "cursor.execute(query)\n",
    "result1 = cursor.fetchall()\n",
    "for row in result1:\n",
    "    print(row)\n",
    "\n"
   ]
  },
  {
   "cell_type": "code",
   "execution_count": 4,
   "id": "e28b71f8",
   "metadata": {},
   "outputs": [
    {
     "name": "stdout",
     "output_type": "stream",
     "text": [
      "enter the account no- 1001\n",
      "enter the ammount in RS- 90\n"
     ]
    }
   ],
   "source": [
    "#for withdraw\n",
    "account_no = int(input(\"enter the account no- \"))  \n",
    "withdraw =  int(input(\"enter the ammount in RS- \"))  # Value to subtract from amount_balance\n",
    "\n",
    "cursor.execute(\"\"\"\n",
    "    UPDATE transactions\n",
    "     SET amount = %s, amount_balance = amount_balance - %s\n",
    "    WHERE account_no = %s\n",
    "\"\"\", (withdraw,withdraw, account_no))\n",
    "connection.commit()\n"
   ]
  },
  {
   "cell_type": "code",
   "execution_count": 5,
   "id": "a85474f5",
   "metadata": {},
   "outputs": [
    {
     "name": "stdout",
     "output_type": "stream",
     "text": [
      "(1, 1001, datetime.date(2023, 7, 1), 90, 5000)\n",
      "(2, 1002, datetime.date(2023, 7, 5), 250, 5050)\n",
      "(3, 1003, datetime.date(2023, 7, 3), 1000, 7000)\n",
      "(4, 1004, datetime.date(2023, 7, 7), -500, 6500)\n",
      "(5, 1005, datetime.date(2023, 7, 2), 300, 4000)\n",
      "(6, 1006, datetime.date(2023, 7, 6), -150, 3850)\n",
      "(7, 1007, datetime.date(2023, 7, 4), 800, 9000)\n",
      "(8, 1008, datetime.date(2023, 7, 8), -300, 8700)\n",
      "(9, 1009, datetime.date(2023, 7, 5), 200, 3000)\n",
      "(10, 1010, datetime.date(2023, 7, 9), -100, 2900)\n"
     ]
    }
   ],
   "source": [
    "query = \"SELECT * FROM transactions\"\n",
    "cursor.execute(query)\n",
    "result1 = cursor.fetchall()\n",
    "for row in result1:\n",
    "    print(row)\n"
   ]
  },
  {
   "cell_type": "code",
   "execution_count": 6,
   "id": "b810065c",
   "metadata": {},
   "outputs": [
    {
     "name": "stdout",
     "output_type": "stream",
     "text": [
      "enter the account no- 1001\n",
      "enter the ammount in RS- 20\n"
     ]
    }
   ],
   "source": [
    "#for deposit\n",
    "account_no = int(input(\"enter the account no- \"))  \n",
    "deposit =  int(input(\"enter the ammount in RS- \"))  # Value to add to the amount_balance\n",
    "\n",
    "\n",
    "cursor.execute(\"\"\"\n",
    "    UPDATE transactions\n",
    "    SET amount = %s, amount_balance = amount_balance + %s\n",
    "    WHERE account_no = %s\n",
    "\"\"\", (deposit, deposit, account_no))\n",
    "connection.commit()\n"
   ]
  },
  {
   "cell_type": "code",
   "execution_count": 7,
   "id": "cb60d083",
   "metadata": {},
   "outputs": [
    {
     "name": "stdout",
     "output_type": "stream",
     "text": [
      "(1, 1001, datetime.date(2023, 7, 1), 20, 5020)\n",
      "(2, 1002, datetime.date(2023, 7, 5), 250, 5050)\n",
      "(3, 1003, datetime.date(2023, 7, 3), 1000, 7000)\n",
      "(4, 1004, datetime.date(2023, 7, 7), -500, 6500)\n",
      "(5, 1005, datetime.date(2023, 7, 2), 300, 4000)\n",
      "(6, 1006, datetime.date(2023, 7, 6), -150, 3850)\n",
      "(7, 1007, datetime.date(2023, 7, 4), 800, 9000)\n",
      "(8, 1008, datetime.date(2023, 7, 8), -300, 8700)\n",
      "(9, 1009, datetime.date(2023, 7, 5), 200, 3000)\n",
      "(10, 1010, datetime.date(2023, 7, 9), -100, 2900)\n"
     ]
    }
   ],
   "source": [
    "query = \"SELECT * FROM transactions\"\n",
    "cursor.execute(query)\n",
    "result1 = cursor.fetchall()\n",
    "for row in result1:\n",
    "    print(row)\n"
   ]
  },
  {
   "cell_type": "code",
   "execution_count": 5,
   "id": "1c704eda",
   "metadata": {},
   "outputs": [
    {
     "name": "stdout",
     "output_type": "stream",
     "text": [
      "enter the account no- 1001\n",
      "5100\n"
     ]
    }
   ],
   "source": [
    "#to get a value from the database\n",
    "account_no = int(input(\"enter the account no- \"))\n",
    "cursor.execute(\"SELECT amount_balance FROM transactions WHERE account_no=%s;\", (account_no,))\n",
    "\n",
    "# Fetch the result\n",
    "result = cursor.fetchone()\n",
    "value = result[0]\n",
    "print(value)\n"
   ]
  },
  {
   "cell_type": "code",
   "execution_count": 18,
   "id": "72d41461",
   "metadata": {},
   "outputs": [
    {
     "name": "stdout",
     "output_type": "stream",
     "text": [
      "enter the account no- 1011\n",
      "enter the first_name= john\n",
      "enter the last_name= son\n",
      "enter the email= john@gmail.com\n",
      "enter the phone_no= 3637237283\n",
      "enter the address= #044 hadra\n"
     ]
    }
   ],
   "source": [
    "# Define the new values to be inserted\n",
    "account_no = int(input(\"enter the account no- \"))\n",
    "first_name = input(\"enter the first_name= \")\n",
    "last_name = input(\"enter the last_name= \")\n",
    "email = input(\"enter the email= \")\n",
    "phone_number =input(\"enter the phone_no= \")\n",
    "address = input(\"enter the address= \")\n",
    "\n",
    "# Execute the INSERT statement\n",
    "insert_query = \"INSERT INTO customers (account_no, first_name, last_name, email, phone_number, address) VALUES (%s, %s, %s, %s, %s, %s)\"\n",
    "values = (account_no, first_name, last_name, email, phone_number, address)\n",
    "cursor.execute(insert_query, values)\n",
    "# Commit the changes\n",
    "connection.commit()\n"
   ]
  },
  {
   "cell_type": "code",
   "execution_count": 19,
   "id": "d64e8217",
   "metadata": {},
   "outputs": [
    {
     "name": "stdout",
     "output_type": "stream",
     "text": [
      "(1001, 'John', 'Doe', 'john.doe@example.com', '1234567890', '123 Main St')\n",
      "(1002, 'Jane', 'Smith', 'jane.smith@example.com', '0987654321', '456 Elm St')\n",
      "(1003, 'Michael', 'Johnson', 'michael.johnson@example.com', '9876543210', '789 Oak Ave')\n",
      "(1004, 'Emily', 'Williams', 'emily.williams@example.com', '0123456789', '321 Pine Rd')\n",
      "(1005, 'David', 'Brown', 'david.brown@example.com', '6789012345', '987 Maple Ln')\n",
      "(1006, 'Sarah', 'Taylor', 'sarah.taylor@example.com', '5432167890', '654 Cedar St')\n",
      "(1007, 'Christopher', 'Davis', 'christopher.davis@example.com', '8901234567', '789 Walnut Ave')\n",
      "(1008, 'Jennifer', 'Miller', 'jennifer.miller@example.com', '7654321098', '432 Birch Rd')\n",
      "(1009, 'Matthew', 'Anderson', 'matthew.anderson@example.com', '2345678901', '567 Oak Ave')\n",
      "(1010, 'Amanda', 'Wilson', 'amanda.wilson@example.com', '9012345678', '876 Pine Rd')\n",
      "(1011, 'john', 'son', 'john@gmail.com', '3637237283', '#044 hadra')\n",
      "(1013, 'xs', 'sc', 'sc', '3', 'ws')\n"
     ]
    }
   ],
   "source": [
    "# displaying the customers values\n",
    "query = \"SELECT * FROM customers\"\n",
    "cursor.execute(query)\n",
    "result = cursor.fetchall()\n",
    "for row in result:\n",
    "    print(row)"
   ]
  },
  {
   "cell_type": "code",
   "execution_count": 23,
   "id": "27baa640",
   "metadata": {},
   "outputs": [
    {
     "name": "stdout",
     "output_type": "stream",
     "text": [
      "enter the account no- 1013\n"
     ]
    }
   ],
   "source": [
    "# Execute the DELETE statement\n",
    "account_no = int(input(\"enter the account no- \"))  \n",
    "delete_query = \"DELETE FROM customers WHERE account_no= %s\"\n",
    "value_to_remove = \"Value to Remove\"\n",
    "cursor.execute(delete_query, (account_no,))\n",
    "# Commit the changes\n",
    "connection.commit()\n"
   ]
  },
  {
   "cell_type": "code",
   "execution_count": 24,
   "id": "f92eb683",
   "metadata": {},
   "outputs": [
    {
     "name": "stdout",
     "output_type": "stream",
     "text": [
      "(1001, 'John', 'Doe', 'john.doe@example.com', '1234567890', '123 Main St')\n",
      "(1002, 'Jane', 'Smith', 'jane.smith@example.com', '0987654321', '456 Elm St')\n",
      "(1003, 'Michael', 'Johnson', 'michael.johnson@example.com', '9876543210', '789 Oak Ave')\n",
      "(1004, 'Emily', 'Williams', 'emily.williams@example.com', '0123456789', '321 Pine Rd')\n",
      "(1005, 'David', 'Brown', 'david.brown@example.com', '6789012345', '987 Maple Ln')\n",
      "(1006, 'Sarah', 'Taylor', 'sarah.taylor@example.com', '5432167890', '654 Cedar St')\n",
      "(1007, 'Christopher', 'Davis', 'christopher.davis@example.com', '8901234567', '789 Walnut Ave')\n",
      "(1008, 'Jennifer', 'Miller', 'jennifer.miller@example.com', '7654321098', '432 Birch Rd')\n",
      "(1009, 'Matthew', 'Anderson', 'matthew.anderson@example.com', '2345678901', '567 Oak Ave')\n",
      "(1010, 'Amanda', 'Wilson', 'amanda.wilson@example.com', '9012345678', '876 Pine Rd')\n",
      "(1011, 'john', 'son', 'john@gmail.com', '3637237283', '#044 hadra')\n"
     ]
    }
   ],
   "source": [
    "# displaying the customers values\n",
    "query = \"SELECT * FROM customers\"\n",
    "cursor.execute(query)\n",
    "result = cursor.fetchall()\n",
    "for row in result:\n",
    "    print(row) "
   ]
  },
  {
   "cell_type": "code",
   "execution_count": null,
   "id": "180f9f76",
   "metadata": {},
   "outputs": [],
   "source": []
  }
 ],
 "metadata": {
  "kernelspec": {
   "display_name": "Python 3 (ipykernel)",
   "language": "python",
   "name": "python3"
  },
  "language_info": {
   "codemirror_mode": {
    "name": "ipython",
    "version": 3
   },
   "file_extension": ".py",
   "mimetype": "text/x-python",
   "name": "python",
   "nbconvert_exporter": "python",
   "pygments_lexer": "ipython3",
   "version": "3.10.9"
  }
 },
 "nbformat": 4,
 "nbformat_minor": 5
}
